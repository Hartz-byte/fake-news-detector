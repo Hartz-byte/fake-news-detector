{
 "cells": [
  {
   "cell_type": "markdown",
   "id": "2569af42-66f9-4bab-8659-14a067668f6b",
   "metadata": {},
   "source": [
    "## Imports"
   ]
  },
  {
   "cell_type": "code",
   "execution_count": 1,
   "id": "efa63b85-27ce-4275-b623-a4d04ded493b",
   "metadata": {},
   "outputs": [],
   "source": [
    "import sys\n",
    "import os\n",
    "\n",
    "sys.path.append(os.path.abspath(\"../scripts\"))"
   ]
  },
  {
   "cell_type": "code",
   "execution_count": 2,
   "id": "8e4d20f4-cf58-4577-aee5-ad80338f5580",
   "metadata": {},
   "outputs": [],
   "source": [
    "import pandas as pd\n",
    "from sklearn.model_selection import train_test_split\n",
    "from sklearn.feature_extraction.text import TfidfVectorizer\n",
    "from sklearn.metrics import classification_report\n",
    "from tensorflow import keras\n",
    "import joblib\n",
    "\n",
    "from data_loader import load_data\n",
    "from model_builder import build_model"
   ]
  },
  {
   "cell_type": "markdown",
   "id": "dda3f30d-e8cf-4dab-bae4-b50a52d469e8",
   "metadata": {},
   "source": [
    "## Load and prepare data"
   ]
  },
  {
   "cell_type": "code",
   "execution_count": 3,
   "id": "72d4f8a0-87e9-4f07-89cb-8f22b4b00647",
   "metadata": {},
   "outputs": [],
   "source": [
    "df = load_data()\n",
    "\n",
    "# Split into features and labels\n",
    "X = df['text']\n",
    "y = df['label']"
   ]
  },
  {
   "cell_type": "code",
   "execution_count": 4,
   "id": "7c2f53c1-4c70-4f41-8e23-e3dc48535989",
   "metadata": {},
   "outputs": [
    {
     "data": {
      "text/plain": [
       "label\n",
       "0    23481\n",
       "1    21417\n",
       "Name: count, dtype: int64"
      ]
     },
     "execution_count": 4,
     "metadata": {},
     "output_type": "execute_result"
    }
   ],
   "source": [
    "df['label'].value_counts()"
   ]
  },
  {
   "cell_type": "code",
   "execution_count": 5,
   "id": "368aead6-31fc-493a-ac65-72a2cd3492fc",
   "metadata": {},
   "outputs": [],
   "source": [
    "# Split train and test\n",
    "X_train, X_test, y_train, y_test = train_test_split(X, y, test_size=0.2, random_state=42)"
   ]
  },
  {
   "cell_type": "code",
   "execution_count": 6,
   "id": "30801e53-20e3-47dc-b281-866c67d2d54c",
   "metadata": {},
   "outputs": [],
   "source": [
    "# Vectorize text using TF-IDF\n",
    "# vectorizer = TfidfVectorizer(max_features=5000)\n",
    "vectorizer = TfidfVectorizer(max_features=5000, ngram_range=(1, 2), stop_words='english')\n",
    "\n",
    "X_train_vect = vectorizer.fit_transform(X_train).toarray()\n",
    "X_test_vect = vectorizer.transform(X_test).toarray()"
   ]
  },
  {
   "cell_type": "code",
   "execution_count": 7,
   "id": "96789b43-d589-429e-b0ac-a643429b1be7",
   "metadata": {},
   "outputs": [],
   "source": [
    "# Build the model\n",
    "model = build_model(input_dim=X_train_vect.shape[1])"
   ]
  },
  {
   "cell_type": "code",
   "execution_count": 8,
   "id": "7f158563-849b-4296-9f0d-ec2c5b188d8f",
   "metadata": {},
   "outputs": [
    {
     "name": "stdout",
     "output_type": "stream",
     "text": [
      "Epoch 1/10\n",
      "\u001b[1m1011/1011\u001b[0m \u001b[32m━━━━━━━━━━━━━━━━━━━━\u001b[0m\u001b[37m\u001b[0m \u001b[1m2s\u001b[0m 2ms/step - accuracy: 0.8814 - loss: 0.3586 - val_accuracy: 0.9894 - val_loss: 0.0363\n",
      "Epoch 2/10\n",
      "\u001b[1m1011/1011\u001b[0m \u001b[32m━━━━━━━━━━━━━━━━━━━━\u001b[0m\u001b[37m\u001b[0m \u001b[1m2s\u001b[0m 1ms/step - accuracy: 0.9884 - loss: 0.0448 - val_accuracy: 0.9922 - val_loss: 0.0245\n",
      "Epoch 3/10\n",
      "\u001b[1m1011/1011\u001b[0m \u001b[32m━━━━━━━━━━━━━━━━━━━━\u001b[0m\u001b[37m\u001b[0m \u001b[1m2s\u001b[0m 1ms/step - accuracy: 0.9926 - loss: 0.0271 - val_accuracy: 0.9925 - val_loss: 0.0234\n",
      "Epoch 4/10\n",
      "\u001b[1m1011/1011\u001b[0m \u001b[32m━━━━━━━━━━━━━━━━━━━━\u001b[0m\u001b[37m\u001b[0m \u001b[1m2s\u001b[0m 2ms/step - accuracy: 0.9956 - loss: 0.0155 - val_accuracy: 0.9936 - val_loss: 0.0267\n",
      "Epoch 5/10\n",
      "\u001b[1m1011/1011\u001b[0m \u001b[32m━━━━━━━━━━━━━━━━━━━━\u001b[0m\u001b[37m\u001b[0m \u001b[1m2s\u001b[0m 2ms/step - accuracy: 0.9961 - loss: 0.0108 - val_accuracy: 0.9936 - val_loss: 0.0285\n",
      "Epoch 6/10\n",
      "\u001b[1m1011/1011\u001b[0m \u001b[32m━━━━━━━━━━━━━━━━━━━━\u001b[0m\u001b[37m\u001b[0m \u001b[1m1s\u001b[0m 1ms/step - accuracy: 0.9965 - loss: 0.0095 - val_accuracy: 0.9942 - val_loss: 0.0306\n",
      "Epoch 7/10\n",
      "\u001b[1m1011/1011\u001b[0m \u001b[32m━━━━━━━━━━━━━━━━━━━━\u001b[0m\u001b[37m\u001b[0m \u001b[1m1s\u001b[0m 1ms/step - accuracy: 0.9972 - loss: 0.0079 - val_accuracy: 0.9930 - val_loss: 0.0318\n",
      "Epoch 8/10\n",
      "\u001b[1m1011/1011\u001b[0m \u001b[32m━━━━━━━━━━━━━━━━━━━━\u001b[0m\u001b[37m\u001b[0m \u001b[1m1s\u001b[0m 1ms/step - accuracy: 0.9973 - loss: 0.0079 - val_accuracy: 0.9939 - val_loss: 0.0337\n",
      "Epoch 9/10\n",
      "\u001b[1m1011/1011\u001b[0m \u001b[32m━━━━━━━━━━━━━━━━━━━━\u001b[0m\u001b[37m\u001b[0m \u001b[1m2s\u001b[0m 1ms/step - accuracy: 0.9970 - loss: 0.0078 - val_accuracy: 0.9925 - val_loss: 0.0381\n",
      "Epoch 10/10\n",
      "\u001b[1m1011/1011\u001b[0m \u001b[32m━━━━━━━━━━━━━━━━━━━━\u001b[0m\u001b[37m\u001b[0m \u001b[1m2s\u001b[0m 2ms/step - accuracy: 0.9977 - loss: 0.0058 - val_accuracy: 0.9936 - val_loss: 0.0415\n"
     ]
    },
    {
     "data": {
      "text/plain": [
       "<keras.src.callbacks.history.History at 0x22f25ec2ce0>"
      ]
     },
     "execution_count": 8,
     "metadata": {},
     "output_type": "execute_result"
    }
   ],
   "source": [
    "# Train the model\n",
    "model.fit(X_train_vect, y_train, epochs=10, batch_size=32, validation_split=0.1)"
   ]
  },
  {
   "cell_type": "code",
   "execution_count": 9,
   "id": "38276c11-9c2b-4962-9e42-c032b11e4da4",
   "metadata": {},
   "outputs": [
    {
     "name": "stdout",
     "output_type": "stream",
     "text": [
      "\u001b[1m281/281\u001b[0m \u001b[32m━━━━━━━━━━━━━━━━━━━━\u001b[0m\u001b[37m\u001b[0m \u001b[1m0s\u001b[0m 1ms/step  \n",
      "              precision    recall  f1-score   support\n",
      "\n",
      "           0       0.99      0.99      0.99      4710\n",
      "           1       0.99      0.99      0.99      4270\n",
      "\n",
      "    accuracy                           0.99      8980\n",
      "   macro avg       0.99      0.99      0.99      8980\n",
      "weighted avg       0.99      0.99      0.99      8980\n",
      "\n"
     ]
    }
   ],
   "source": [
    "# Evaluate on test set\n",
    "y_pred_prob = model.predict(X_test_vect)\n",
    "y_pred = (y_pred_prob > 0.5).astype(int)\n",
    "\n",
    "print(classification_report(y_test, y_pred))"
   ]
  },
  {
   "cell_type": "code",
   "execution_count": 10,
   "id": "71d8db63-3364-41ee-94c3-fce9c19244da",
   "metadata": {},
   "outputs": [],
   "source": [
    "# Save model in native Keras format\n",
    "model.save(\"../models/model.keras\")"
   ]
  },
  {
   "cell_type": "code",
   "execution_count": 11,
   "id": "75ccaef8-ee07-4350-9599-e668ed285bfb",
   "metadata": {},
   "outputs": [
    {
     "data": {
      "text/plain": [
       "['../models/vectorizer.pkl']"
      ]
     },
     "execution_count": 11,
     "metadata": {},
     "output_type": "execute_result"
    }
   ],
   "source": [
    "# Save the vectorizer\n",
    "joblib.dump(vectorizer, \"../models/vectorizer.pkl\")"
   ]
  },
  {
   "cell_type": "code",
   "execution_count": 12,
   "id": "18b65984-401e-482b-ba6d-8c7130cdd408",
   "metadata": {},
   "outputs": [],
   "source": [
    "from tensorflow.keras.models import load_model"
   ]
  },
  {
   "cell_type": "code",
   "execution_count": 13,
   "id": "37df833b-9b2c-46ff-8876-b1570567716e",
   "metadata": {},
   "outputs": [],
   "source": [
    "# Load the model\n",
    "model = load_model(\"../models/model.keras\")\n",
    "\n",
    "# Load the vectorizer\n",
    "vectorizer = joblib.load(\"../models/vectorizer.pkl\")"
   ]
  },
  {
   "cell_type": "code",
   "execution_count": 14,
   "id": "d8ff5a98-b255-4c4d-9a96-b6192050bcf4",
   "metadata": {},
   "outputs": [
    {
     "name": "stdout",
     "output_type": "stream",
     "text": [
      "\u001b[1m1/1\u001b[0m \u001b[32m━━━━━━━━━━━━━━━━━━━━\u001b[0m\u001b[37m\u001b[0m \u001b[1m0s\u001b[0m 46ms/step\n",
      "Breaking: Prime Minister announces new economic reforms. -> Fake (0.15)\n",
      "\u001b[1m1/1\u001b[0m \u001b[32m━━━━━━━━━━━━━━━━━━━━\u001b[0m\u001b[37m\u001b[0m \u001b[1m0s\u001b[0m 24ms/step\n",
      "Aliens landed in Ohio according to anonymous sources. -> Fake (0.00)\n",
      "\u001b[1m1/1\u001b[0m \u001b[32m━━━━━━━━━━━━━━━━━━━━\u001b[0m\u001b[37m\u001b[0m \u001b[1m0s\u001b[0m 26ms/step\n",
      "The COVID-19 vaccine rollout continues across Europe. -> Fake (0.00)\n",
      "\u001b[1m1/1\u001b[0m \u001b[32m━━━━━━━━━━━━━━━━━━━━\u001b[0m\u001b[37m\u001b[0m \u001b[1m0s\u001b[0m 26ms/step\n",
      "NASA confirms water on the Moon. -> Fake (0.00)\n",
      "\u001b[1m1/1\u001b[0m \u001b[32m━━━━━━━━━━━━━━━━━━━━\u001b[0m\u001b[37m\u001b[0m \u001b[1m0s\u001b[0m 30ms/step\n",
      "Donald Trump wins the presidential election again. -> Real (0.65)\n",
      "\u001b[1m1/1\u001b[0m \u001b[32m━━━━━━━━━━━━━━━━━━━━\u001b[0m\u001b[37m\u001b[0m \u001b[1m0s\u001b[0m 26ms/step\n",
      "India is a country. -> Fake (0.01)\n"
     ]
    }
   ],
   "source": [
    "examples = [\n",
    "    \"Breaking: Prime Minister announces new economic reforms.\",\n",
    "    \"Aliens landed in Ohio according to anonymous sources.\",\n",
    "    \"The COVID-19 vaccine rollout continues across Europe.\",\n",
    "    \"NASA confirms water on the Moon.\",\n",
    "    \"Donald Trump wins the presidential election again.\",\n",
    "    \"India is a country.\"\n",
    "]\n",
    "\n",
    "for text in examples:\n",
    "    X_ex = vectorizer.transform([text])\n",
    "    pred = model.predict(X_ex.toarray())\n",
    "    label = \"Real\" if pred[0][0] >= 0.5 else \"Fake\"\n",
    "    print(f\"{text} -> {label} ({pred[0][0]:.2f})\")"
   ]
  },
  {
   "cell_type": "code",
   "execution_count": 15,
   "id": "95e91ea9-6a44-4361-a1aa-bba727e300fb",
   "metadata": {},
   "outputs": [
    {
     "name": "stdout",
     "output_type": "stream",
     "text": [
      "['00' '00 pm' '000' '000 people' '10' '10 000' '10 percent' '10 years'\n",
      " '100' '100 000' '11' '12' '120' '13' '14' '15' '150' '16' '17' '18']\n",
      "5000\n"
     ]
    }
   ],
   "source": [
    "print(vectorizer.get_feature_names_out()[:20])  # See first 20\n",
    "print(len(vectorizer.get_feature_names_out()))  # Size of vocab"
   ]
  },
  {
   "cell_type": "code",
   "execution_count": null,
   "id": "18639ab3-ac7e-4bf2-840e-8f6bbf1c7246",
   "metadata": {},
   "outputs": [],
   "source": []
  }
 ],
 "metadata": {
  "kernelspec": {
   "display_name": "Python 3 (ipykernel)",
   "language": "python",
   "name": "python3"
  },
  "language_info": {
   "codemirror_mode": {
    "name": "ipython",
    "version": 3
   },
   "file_extension": ".py",
   "mimetype": "text/x-python",
   "name": "python",
   "nbconvert_exporter": "python",
   "pygments_lexer": "ipython3",
   "version": "3.10.16"
  }
 },
 "nbformat": 4,
 "nbformat_minor": 5
}
